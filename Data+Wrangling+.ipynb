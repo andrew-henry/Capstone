{
 "cells": [
  {
   "cell_type": "markdown",
   "metadata": {},
   "source": [
    "# Data wrangling document for my capstone project on heart attack prediction data set.\n",
    "\n",
    "\n",
    "For the preparation of the model that I will build for this project I will have to first properly prepare the data.\n",
    "I will look at the raw data that was presented to me and see in context what I actually had to work with. \n",
    "\n",
    "### I am fortunate that this dataset is well prepared and that there is minimum amount of time needed to be done in the data wrangling/cleaning process\n",
    "\n",
    "#### Unnecessary Columns \n",
    "There were no unnecessary columns in the data set. Data was prepared.\n",
    "\n",
    "#### Missing Values  \n",
    "There are a significant amount of values missing which I will choose to impute with mean values for now but for future work I will try different approaches of model building with these missing values.\n",
    "\n",
    "Outlier - There were no significant outliers in the dataset\n",
    "\n",
    "#### Imbalanced Data  \n",
    "The data was imbalanced in that there were more patients that did not suffer a heart attack than did. For the initial model I will do no resampling just to have a baseline level of performance but for additional/future work I will perform resampling techniques. \n",
    "\n",
    "#### Categorical Variables  \n",
    "Two specific columns contained categorical features that needed to be accounted for and changed in the data cleaning process (Sex and chest pain)."
   ]
  },
  {
   "cell_type": "code",
   "execution_count": null,
   "metadata": {
    "collapsed": true
   },
   "outputs": [],
   "source": []
  }
 ],
 "metadata": {
  "kernelspec": {
   "display_name": "Python 3",
   "language": "python",
   "name": "python3"
  },
  "language_info": {
   "codemirror_mode": {
    "name": "ipython",
    "version": 3
   },
   "file_extension": ".py",
   "mimetype": "text/x-python",
   "name": "python",
   "nbconvert_exporter": "python",
   "pygments_lexer": "ipython3",
   "version": "3.6.6"
  }
 },
 "nbformat": 4,
 "nbformat_minor": 2
}
